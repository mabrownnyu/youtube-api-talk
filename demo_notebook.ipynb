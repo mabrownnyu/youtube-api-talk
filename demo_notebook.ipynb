{
 "cells": [
  {
   "cell_type": "markdown",
   "metadata": {
    "slideshow": {
     "slide_type": "slide"
    }
   },
   "source": [
    "# How to use the Youtube Data API: YoutubeDataApi\n",
    "[Youtube Package Documentation](https://youtube-data-api.readthedocs.io/en/latest/index.html) <br>\n",
    "\n",
    "[Slides](https://www.leonyin.org/presentations/yt-pt-1.slides.html#/) | [GitHub](https://github.com/mabrownnyu/youtube-api-demo/blob/master/nbs/demo_notebook.ipynb) | [NBViewer](https://nbviewer.jupyter.org/github/mabrownnyu/youtube-api-demo/blob/master/nbs/demo_notebook.ipynb)\n",
    "\n",
    "Authors: Megan Brown & Leon Yin <br>\n",
    "Presented on: 2018/10/09\n",
    "<hr>"
   ]
  },
  {
   "cell_type": "markdown",
   "metadata": {
    "slideshow": {
     "slide_type": "slide"
    }
   },
   "source": [
    "\n",
    "## Agenda\n",
    "Today we will discuss:\n",
    "\n",
    "1. A brief overview of data available in the YouTube Data API\n",
    "2. How to install the package\n",
    "3. How to create an API key\n",
    "4. A brief look at how to use the package\n",
    "5. A cool example that I have yet to come up with\n",
    "\n",
    "Necessary packages for this tutorial are in `requirements.txt`\n",
    "```\n",
    "pip install -r requirements.txt\n",
    "```\n"
   ]
  },
  {
   "cell_type": "markdown",
   "metadata": {
    "slideshow": {
     "slide_type": "slide"
    }
   },
   "source": [
    "# FAQs\n",
    "\n",
    "### So what kind of data can you get?\n",
    "\n",
    "* Short answer: a lot\n",
    "\n",
    "* Comprehensive answer: [here](https://developers.google.com/youtube/v3/docs/)\n",
    "\n",
    "* What is included in the package:\n",
    "    * video metadata\n",
    "    * channel metadata\n",
    "    * playlist metadata\n",
    "    * subscription metadata\n",
    "    * featured channel metadata\n",
    "    * comment metadata\n",
    "    * captions metadata\n",
    "    * search results\n",
    "    * recommended video results\n",
    "#### [Package Reference](https://youtube-data-api.readthedocs.io/en/latest/youtube_api.html)\n",
    "\n"
   ]
  },
  {
   "cell_type": "markdown",
   "metadata": {
    "slideshow": {
     "slide_type": "slide"
    }
   },
   "source": [
    "### What is the difference between a user and a channel?\n",
    "* Essentially: how YouTube stores the data internally.<br>\n",
    "* A user is the name that a content creator registers (ex: **LastWeekTonight**). You cannot use this value to get more information from a user.<br>\n",
    "* The channel id is the internal ID for a given user (ex: **UC3XTzVzaHQEd30rQbuvCtTQ**). You can use this value to get more data about a channel. <br>\n",
    "\n",
    "###### But fear not, there is a solution!\n",
    "Use `yt.get_channel_id_from_user(username)` to get the channel id for a given user.\n",
    "\n",
    "### What is the difference between a featured channel and a subscription?\n",
    "* A subscription is a channel that a user opts into getting updates for\n",
    "* A featured channel is a feature a channel can use to direct their viewers towards other channels"
   ]
  },
  {
   "cell_type": "markdown",
   "metadata": {
    "slideshow": {
     "slide_type": "slide"
    }
   },
   "source": [
    "## How to Install\n",
    "\n",
    "   The software is on PyPI, so you can download it via `pip`\n",
    "   \n",
    "   \n",
    "   `pip install youtube-data-api`"
   ]
  },
  {
   "cell_type": "markdown",
   "metadata": {
    "slideshow": {
     "slide_type": "slide"
    }
   },
   "source": [
    "## How to get an API key\n",
    "\n",
    "### A quick guide: https://developers.google.com/youtube/v3/getting-started\n",
    "\n",
    "1. You need a Google Account to access the Google API Console, request an API key, and register your application. You already have this as an NYU student/affiliate.\n",
    "\n",
    "2. Create a project in the <a href=\"https://console.developers.google.com/apis/\">Google Developers Console</a> and <a href=\"https://developers.google.com/youtube/registering_an_application\">obtain authorization credentials</a> so your application can submit API requests.\n",
    "\n",
    "3. After creating your project, make sure the YouTube Data API is one of the services that your application is registered to use.\n",
    "\n",
    "    a. Go to the <a href=\"https://console.developers.google.com/apis/\">API Console</a> and select the project that you just registered.\n",
    "\n",
    "    b. Visit the <a href=\"https://console.developers.google.com/apis/enabled\">Enabled APIs page</a>. In the list of APIs, make sure the status is ON for the YouTube Data API v3. You do not need to enable OAuth 2.0 since ther are no methods in the package that require it."
   ]
  },
  {
   "cell_type": "markdown",
   "metadata": {
    "slideshow": {
     "slide_type": "slide"
    }
   },
   "source": [
    "## A brief overview of how to use the package"
   ]
  },
  {
   "cell_type": "code",
   "execution_count": 2,
   "metadata": {
    "slideshow": {
     "slide_type": "skip"
    }
   },
   "outputs": [],
   "source": [
    "import os\n",
    "import datetime\n",
    "import pandas as pd"
   ]
  },
  {
   "cell_type": "code",
   "execution_count": 3,
   "metadata": {
    "slideshow": {
     "slide_type": "fragment"
    }
   },
   "outputs": [],
   "source": [
    "from youtube_api import YoutubeDataApi\n",
    "from youtube_api.youtube_api_utils import *\n",
    "\n",
    "yt = YoutubeDataApi(os.environ.get('YT_KEY'))"
   ]
  },
  {
   "cell_type": "markdown",
   "metadata": {
    "slideshow": {
     "slide_type": "slide"
    }
   },
   "source": [
    "### Starting with a channel name and getting some basic metadata\n",
    "https://www.youtube.com/user/LastWeekTonight"
   ]
  },
  {
   "cell_type": "code",
   "execution_count": 4,
   "metadata": {
    "slideshow": {
     "slide_type": "fragment"
    }
   },
   "outputs": [
    {
     "name": "stdout",
     "output_type": "stream",
     "text": [
      "UC3XTzVzaHQEd30rQbuvCtTQ\n"
     ]
    }
   ],
   "source": [
    "channel_id = yt.get_channel_id_from_user('LastWeekTonight')\n",
    "print(channel_id)"
   ]
  },
  {
   "cell_type": "markdown",
   "metadata": {
    "slideshow": {
     "slide_type": "fragment"
    }
   },
   "source": [
    "You can get more information from this `channel_id`"
   ]
  },
  {
   "cell_type": "code",
   "execution_count": 5,
   "metadata": {
    "slideshow": {
     "slide_type": "fragment"
    }
   },
   "outputs": [
    {
     "data": {
      "text/plain": [
       "OrderedDict([('channel_id', 'UC3XTzVzaHQEd30rQbuvCtTQ'),\n",
       "             ('title', 'LastWeekTonight'),\n",
       "             ('account_creation_date',\n",
       "              datetime.datetime(2014, 3, 18, 17, 41, 39)),\n",
       "             ('keywords', None),\n",
       "             ('description',\n",
       "              'Breaking news on a weekly basis. Sundays at 11PM - only on HBO.\\nSubscribe to the Last Week Tonight channel for the latest videos from John Oliver and the LWT team.'),\n",
       "             ('view_count', '1716448004'),\n",
       "             ('video_count', '252'),\n",
       "             ('subscription_count', '6479056'),\n",
       "             ('playlist_id_likes', 'LL3XTzVzaHQEd30rQbuvCtTQ'),\n",
       "             ('playlist_id_uploads', 'UU3XTzVzaHQEd30rQbuvCtTQ'),\n",
       "             ('topic_ids',\n",
       "              'https://en.wikipedia.org/wiki/Entertainment|https://en.wikipedia.org/wiki/Television_program|https://en.wikipedia.org/wiki/Humour'),\n",
       "             ('country', None),\n",
       "             ('collection_date',\n",
       "              datetime.datetime(2018, 10, 9, 11, 47, 57, 360437))])"
      ]
     },
     "execution_count": 5,
     "metadata": {},
     "output_type": "execute_result"
    }
   ],
   "source": [
    "yt.get_channel_metadata(channel_id)"
   ]
  },
  {
   "cell_type": "markdown",
   "metadata": {
    "slideshow": {
     "slide_type": "slide"
    }
   },
   "source": [
    "The default paerser returns the items in the JSON as an `OrderedDict`. Passing `parser = None` returns the raw JSON."
   ]
  },
  {
   "cell_type": "code",
   "execution_count": 6,
   "metadata": {
    "slideshow": {
     "slide_type": "fragment"
    }
   },
   "outputs": [
    {
     "data": {
      "text/plain": [
       "{'kind': 'youtube#channel',\n",
       " 'etag': '\"XI7nbFXulYBIpL0ayR_gDh3eu1k/LVe_y6zl5BF7KPI-kBB3PFReyvw\"',\n",
       " 'id': 'UC3XTzVzaHQEd30rQbuvCtTQ',\n",
       " 'snippet': {'title': 'LastWeekTonight',\n",
       "  'description': 'Breaking news on a weekly basis. Sundays at 11PM - only on HBO.\\nSubscribe to the Last Week Tonight channel for the latest videos from John Oliver and the LWT team.',\n",
       "  'customUrl': 'LastWeekTonight',\n",
       "  'publishedAt': '2014-03-18T17:41:39.000Z',\n",
       "  'thumbnails': {'default': {'url': 'https://yt3.ggpht.com/a-/AN66SAxIEUI6f-101_t2Dy8703mNjD8eikQOVffxBw=s88-mo-c-c0xffffffff-rj-k-no',\n",
       "    'width': 88,\n",
       "    'height': 88},\n",
       "   'medium': {'url': 'https://yt3.ggpht.com/a-/AN66SAxIEUI6f-101_t2Dy8703mNjD8eikQOVffxBw=s240-mo-c-c0xffffffff-rj-k-no',\n",
       "    'width': 240,\n",
       "    'height': 240},\n",
       "   'high': {'url': 'https://yt3.ggpht.com/a-/AN66SAxIEUI6f-101_t2Dy8703mNjD8eikQOVffxBw=s800-mo-c-c0xffffffff-rj-k-no',\n",
       "    'width': 800,\n",
       "    'height': 800}},\n",
       "  'localized': {'title': 'LastWeekTonight',\n",
       "   'description': 'Breaking news on a weekly basis. Sundays at 11PM - only on HBO.\\nSubscribe to the Last Week Tonight channel for the latest videos from John Oliver and the LWT team.'}},\n",
       " 'contentDetails': {'relatedPlaylists': {'likes': 'LL3XTzVzaHQEd30rQbuvCtTQ',\n",
       "   'uploads': 'UU3XTzVzaHQEd30rQbuvCtTQ',\n",
       "   'watchHistory': 'HL',\n",
       "   'watchLater': 'WL'}},\n",
       " 'statistics': {'viewCount': '1716448004',\n",
       "  'commentCount': '0',\n",
       "  'subscriberCount': '6479056',\n",
       "  'hiddenSubscriberCount': False,\n",
       "  'videoCount': '252'},\n",
       " 'topicDetails': {'topicIds': ['/m/02jjt', '/m/0f2f9', '/m/09kqc'],\n",
       "  'topicCategories': ['https://en.wikipedia.org/wiki/Humour',\n",
       "   'https://en.wikipedia.org/wiki/Television_program',\n",
       "   'https://en.wikipedia.org/wiki/Entertainment']},\n",
       " 'brandingSettings': {'channel': {'title': 'LastWeekTonight',\n",
       "   'description': 'Breaking news on a weekly basis. Sundays at 11PM - only on HBO.\\nSubscribe to the Last Week Tonight channel for the latest videos from John Oliver and the LWT team.',\n",
       "   'defaultTab': 'Featured',\n",
       "   'showRelatedChannels': True,\n",
       "   'showBrowseView': True,\n",
       "   'featuredChannelsTitle': 'HBO Network Channels',\n",
       "   'featuredChannelsUrls': ['UCVTQuK2CaWaTgSsoNkn5AiQ',\n",
       "    'UCYbinjMxWwjRpp4WqgDqEDA',\n",
       "    'UCWPQB43yGKEum3eW0P9N_nQ',\n",
       "    'UCbKo3HsaBOPhdRpgzqtRnqA',\n",
       "    'UCy6kyFxaMqGtpE3pQTflK8A',\n",
       "    'UCQzdMyuz0Lf4zo4uGcEujFw',\n",
       "    'UCPnlBOg4_NU9wdhRN-vzECQ',\n",
       "    'UCeKum6mhlVAjUFIW15mVBPg'],\n",
       "   'unsubscribedTrailer': 'FsZ3p9gOkpY',\n",
       "   'profileColor': '#000000'},\n",
       "  'image': {'bannerImageUrl': 'https://yt3.ggpht.com/Qfti0QDA7Q-7TtwBK9rDh6JV1C6CBAjUry4983cXQSZMgDx0eghNpPXcFsVZrglxwWIGqmjiqA=w1060-fcrop64=1,00005a57ffffa5a8-nd-c0xffffffff-rj-k-no',\n",
       "   'bannerMobileImageUrl': 'https://yt3.ggpht.com/Qfti0QDA7Q-7TtwBK9rDh6JV1C6CBAjUry4983cXQSZMgDx0eghNpPXcFsVZrglxwWIGqmjiqA=w640-fcrop64=1,32b75a57cd48a5a8-nd-c0xffffffff-rj-k-no',\n",
       "   'bannerTabletLowImageUrl': 'https://yt3.ggpht.com/Qfti0QDA7Q-7TtwBK9rDh6JV1C6CBAjUry4983cXQSZMgDx0eghNpPXcFsVZrglxwWIGqmjiqA=w1138-fcrop64=1,00005a57ffffa5a8-nd-c0xffffffff-rj-k-no',\n",
       "   'bannerTabletImageUrl': 'https://yt3.ggpht.com/Qfti0QDA7Q-7TtwBK9rDh6JV1C6CBAjUry4983cXQSZMgDx0eghNpPXcFsVZrglxwWIGqmjiqA=w1707-fcrop64=1,00005a57ffffa5a8-nd-c0xffffffff-rj-k-no',\n",
       "   'bannerTabletHdImageUrl': 'https://yt3.ggpht.com/Qfti0QDA7Q-7TtwBK9rDh6JV1C6CBAjUry4983cXQSZMgDx0eghNpPXcFsVZrglxwWIGqmjiqA=w2276-fcrop64=1,00005a57ffffa5a8-nd-c0xffffffff-rj-k-no',\n",
       "   'bannerTabletExtraHdImageUrl': 'https://yt3.ggpht.com/Qfti0QDA7Q-7TtwBK9rDh6JV1C6CBAjUry4983cXQSZMgDx0eghNpPXcFsVZrglxwWIGqmjiqA=w2560-fcrop64=1,00005a57ffffa5a8-nd-c0xffffffff-rj-k-no',\n",
       "   'bannerMobileLowImageUrl': 'https://yt3.ggpht.com/Qfti0QDA7Q-7TtwBK9rDh6JV1C6CBAjUry4983cXQSZMgDx0eghNpPXcFsVZrglxwWIGqmjiqA=w320-fcrop64=1,32b75a57cd48a5a8-nd-c0xffffffff-rj-k-no',\n",
       "   'bannerMobileMediumHdImageUrl': 'https://yt3.ggpht.com/Qfti0QDA7Q-7TtwBK9rDh6JV1C6CBAjUry4983cXQSZMgDx0eghNpPXcFsVZrglxwWIGqmjiqA=w960-fcrop64=1,32b75a57cd48a5a8-nd-c0xffffffff-rj-k-no',\n",
       "   'bannerMobileHdImageUrl': 'https://yt3.ggpht.com/Qfti0QDA7Q-7TtwBK9rDh6JV1C6CBAjUry4983cXQSZMgDx0eghNpPXcFsVZrglxwWIGqmjiqA=w1280-fcrop64=1,32b75a57cd48a5a8-nd-c0xffffffff-rj-k-no',\n",
       "   'bannerMobileExtraHdImageUrl': 'https://yt3.ggpht.com/Qfti0QDA7Q-7TtwBK9rDh6JV1C6CBAjUry4983cXQSZMgDx0eghNpPXcFsVZrglxwWIGqmjiqA=w1440-fcrop64=1,32b75a57cd48a5a8-nd-c0xffffffff-rj-k-no',\n",
       "   'bannerTvImageUrl': 'https://yt3.ggpht.com/Qfti0QDA7Q-7TtwBK9rDh6JV1C6CBAjUry4983cXQSZMgDx0eghNpPXcFsVZrglxwWIGqmjiqA=w2120-fcrop64=1,00000000ffffffff-nd-c0xffffffff-rj-k-no',\n",
       "   'bannerTvLowImageUrl': 'https://yt3.ggpht.com/Qfti0QDA7Q-7TtwBK9rDh6JV1C6CBAjUry4983cXQSZMgDx0eghNpPXcFsVZrglxwWIGqmjiqA=w854-fcrop64=1,00000000ffffffff-nd-c0xffffffff-rj-k-no',\n",
       "   'bannerTvMediumImageUrl': 'https://yt3.ggpht.com/Qfti0QDA7Q-7TtwBK9rDh6JV1C6CBAjUry4983cXQSZMgDx0eghNpPXcFsVZrglxwWIGqmjiqA=w1280-fcrop64=1,00000000ffffffff-nd-c0xffffffff-rj-k-no',\n",
       "   'bannerTvHighImageUrl': 'https://yt3.ggpht.com/Qfti0QDA7Q-7TtwBK9rDh6JV1C6CBAjUry4983cXQSZMgDx0eghNpPXcFsVZrglxwWIGqmjiqA=w1920-fcrop64=1,00000000ffffffff-nd-c0xffffffff-rj-k-no'},\n",
       "  'hints': [{'property': 'channel.modules.show_comments.bool',\n",
       "    'value': 'True'},\n",
       "   {'property': 'channel.banner.mobile.medium.image.url',\n",
       "    'value': 'https://yt3.ggpht.com/Qfti0QDA7Q-7TtwBK9rDh6JV1C6CBAjUry4983cXQSZMgDx0eghNpPXcFsVZrglxwWIGqmjiqA=w640-fcrop64=1,32b75a57cd48a5a8-nd-c0xffffffff-rj-k-no'},\n",
       "   {'property': 'channel.featured_tab.template.string',\n",
       "    'value': 'Everything'}]}}"
      ]
     },
     "execution_count": 6,
     "metadata": {},
     "output_type": "execute_result"
    }
   ],
   "source": [
    "yt.get_channel_metadata(channel_id, parser=None)"
   ]
  },
  {
   "cell_type": "code",
   "execution_count": 21,
   "metadata": {
    "scrolled": true,
    "slideshow": {
     "slide_type": "slide"
    }
   },
   "outputs": [
    {
     "data": {
      "text/html": [
       "<div>\n",
       "<style scoped>\n",
       "    .dataframe tbody tr th:only-of-type {\n",
       "        vertical-align: middle;\n",
       "    }\n",
       "\n",
       "    .dataframe tbody tr th {\n",
       "        vertical-align: top;\n",
       "    }\n",
       "\n",
       "    .dataframe thead th {\n",
       "        text-align: right;\n",
       "    }\n",
       "</style>\n",
       "<table border=\"1\" class=\"dataframe\">\n",
       "  <thead>\n",
       "    <tr style=\"text-align: right;\">\n",
       "      <th></th>\n",
       "      <th>subscription_title</th>\n",
       "      <th>subscription_channel_id</th>\n",
       "      <th>subscription_kind</th>\n",
       "      <th>subscription_publish_date</th>\n",
       "      <th>collection_date</th>\n",
       "    </tr>\n",
       "  </thead>\n",
       "  <tbody>\n",
       "    <tr>\n",
       "      <th>0</th>\n",
       "      <td>HBOBoxing</td>\n",
       "      <td>UCWPQB43yGKEum3eW0P9N_nQ</td>\n",
       "      <td>youtube#channel</td>\n",
       "      <td>2014-03-20 19:05:54</td>\n",
       "      <td>2018-10-09 11:58:40.405346</td>\n",
       "    </tr>\n",
       "    <tr>\n",
       "      <th>1</th>\n",
       "      <td>Real Time with Bill Maher</td>\n",
       "      <td>UCy6kyFxaMqGtpE3pQTflK8A</td>\n",
       "      <td>youtube#channel</td>\n",
       "      <td>2014-12-11 18:55:41</td>\n",
       "      <td>2018-10-09 11:58:40.405346</td>\n",
       "    </tr>\n",
       "  </tbody>\n",
       "</table>\n",
       "</div>"
      ],
      "text/plain": [
       "          subscription_title   subscription_channel_id subscription_kind  \\\n",
       "0                  HBOBoxing  UCWPQB43yGKEum3eW0P9N_nQ   youtube#channel   \n",
       "1  Real Time with Bill Maher  UCy6kyFxaMqGtpE3pQTflK8A   youtube#channel   \n",
       "\n",
       "  subscription_publish_date            collection_date  \n",
       "0       2014-03-20 19:05:54 2018-10-09 11:58:40.405346  \n",
       "1       2014-12-11 18:55:41 2018-10-09 11:58:40.405346  "
      ]
     },
     "execution_count": 21,
     "metadata": {},
     "output_type": "execute_result"
    }
   ],
   "source": [
    "pd.DataFrame(yt.get_subscriptions(channel_id)[:2])"
   ]
  },
  {
   "cell_type": "code",
   "execution_count": 8,
   "metadata": {
    "slideshow": {
     "slide_type": "fragment"
    }
   },
   "outputs": [
    {
     "data": {
      "text/plain": [
       "[{'UC3XTzVzaHQEd30rQbuvCtTQ': ['UCVTQuK2CaWaTgSsoNkn5AiQ',\n",
       "   'UCYbinjMxWwjRpp4WqgDqEDA',\n",
       "   'UCWPQB43yGKEum3eW0P9N_nQ',\n",
       "   'UCbKo3HsaBOPhdRpgzqtRnqA',\n",
       "   'UCy6kyFxaMqGtpE3pQTflK8A',\n",
       "   'UCQzdMyuz0Lf4zo4uGcEujFw',\n",
       "   'UCPnlBOg4_NU9wdhRN-vzECQ',\n",
       "   'UCeKum6mhlVAjUFIW15mVBPg']}]"
      ]
     },
     "execution_count": 8,
     "metadata": {},
     "output_type": "execute_result"
    }
   ],
   "source": [
    "yt.get_featured_channels(channel_id)[:2]"
   ]
  },
  {
   "cell_type": "markdown",
   "metadata": {
    "slideshow": {
     "slide_type": "slide"
    }
   },
   "source": [
    "You can convert the `channel_id` into a playlist id to get all the videos ever posted by a channel using a function from the `youtube_api_utils` in the package."
   ]
  },
  {
   "cell_type": "code",
   "execution_count": 10,
   "metadata": {
    "slideshow": {
     "slide_type": "fragment"
    }
   },
   "outputs": [
    {
     "name": "stdout",
     "output_type": "stream",
     "text": [
      "UU3XTzVzaHQEd30rQbuvCtTQ\n"
     ]
    }
   ],
   "source": [
    "from youtube_api.youtube_api_utils import *\n",
    "\n",
    "playlist_id = get_upload_playlist_id(channel_id)\n",
    "print(playlist_id)"
   ]
  },
  {
   "cell_type": "markdown",
   "metadata": {
    "slideshow": {
     "slide_type": "slide"
    }
   },
   "source": [
    "You can now get the videos from this `playlist_id`"
   ]
  },
  {
   "cell_type": "code",
   "execution_count": 20,
   "metadata": {
    "slideshow": {
     "slide_type": "fragment"
    }
   },
   "outputs": [
    {
     "data": {
      "text/html": [
       "<div>\n",
       "<style scoped>\n",
       "    .dataframe tbody tr th:only-of-type {\n",
       "        vertical-align: middle;\n",
       "    }\n",
       "\n",
       "    .dataframe tbody tr th {\n",
       "        vertical-align: top;\n",
       "    }\n",
       "\n",
       "    .dataframe thead th {\n",
       "        text-align: right;\n",
       "    }\n",
       "</style>\n",
       "<table border=\"1\" class=\"dataframe\">\n",
       "  <thead>\n",
       "    <tr style=\"text-align: right;\">\n",
       "      <th></th>\n",
       "      <th>video_id</th>\n",
       "      <th>channel_id</th>\n",
       "      <th>publish_date</th>\n",
       "      <th>collection_date</th>\n",
       "    </tr>\n",
       "  </thead>\n",
       "  <tbody>\n",
       "    <tr>\n",
       "      <th>0</th>\n",
       "      <td>FsZ3p9gOkpY</td>\n",
       "      <td>UC3XTzVzaHQEd30rQbuvCtTQ</td>\n",
       "      <td>2018-10-08 06:30:00</td>\n",
       "      <td>2018-10-09 11:58:28.811250</td>\n",
       "    </tr>\n",
       "    <tr>\n",
       "      <th>1</th>\n",
       "      <td>opi8X9hQ7q8</td>\n",
       "      <td>UC3XTzVzaHQEd30rQbuvCtTQ</td>\n",
       "      <td>2018-10-01 06:30:01</td>\n",
       "      <td>2018-10-09 11:58:28.811250</td>\n",
       "    </tr>\n",
       "    <tr>\n",
       "      <th>2</th>\n",
       "      <td>OjPYmEZxACM</td>\n",
       "      <td>UC3XTzVzaHQEd30rQbuvCtTQ</td>\n",
       "      <td>2018-09-24 06:30:00</td>\n",
       "      <td>2018-10-09 11:58:28.811250</td>\n",
       "    </tr>\n",
       "    <tr>\n",
       "      <th>3</th>\n",
       "      <td>NpPyLcQ2vdI</td>\n",
       "      <td>UC3XTzVzaHQEd30rQbuvCtTQ</td>\n",
       "      <td>2018-09-10 06:30:02</td>\n",
       "      <td>2018-10-09 11:58:28.811250</td>\n",
       "    </tr>\n",
       "    <tr>\n",
       "      <th>4</th>\n",
       "      <td>2nXYbGmF3_Q</td>\n",
       "      <td>UC3XTzVzaHQEd30rQbuvCtTQ</td>\n",
       "      <td>2018-08-27 03:00:00</td>\n",
       "      <td>2018-10-09 11:58:28.811250</td>\n",
       "    </tr>\n",
       "  </tbody>\n",
       "</table>\n",
       "</div>"
      ],
      "text/plain": [
       "      video_id                channel_id        publish_date  \\\n",
       "0  FsZ3p9gOkpY  UC3XTzVzaHQEd30rQbuvCtTQ 2018-10-08 06:30:00   \n",
       "1  opi8X9hQ7q8  UC3XTzVzaHQEd30rQbuvCtTQ 2018-10-01 06:30:01   \n",
       "2  OjPYmEZxACM  UC3XTzVzaHQEd30rQbuvCtTQ 2018-09-24 06:30:00   \n",
       "3  NpPyLcQ2vdI  UC3XTzVzaHQEd30rQbuvCtTQ 2018-09-10 06:30:02   \n",
       "4  2nXYbGmF3_Q  UC3XTzVzaHQEd30rQbuvCtTQ 2018-08-27 03:00:00   \n",
       "\n",
       "             collection_date  \n",
       "0 2018-10-09 11:58:28.811250  \n",
       "1 2018-10-09 11:58:28.811250  \n",
       "2 2018-10-09 11:58:28.811250  \n",
       "3 2018-10-09 11:58:28.811250  \n",
       "4 2018-10-09 11:58:28.811250  "
      ]
     },
     "execution_count": 20,
     "metadata": {},
     "output_type": "execute_result"
    }
   ],
   "source": [
    "videos = yt.get_videos_from_playlist_id(playlist_id)\n",
    "pd.DataFrame(videos[:5])"
   ]
  },
  {
   "cell_type": "code",
   "execution_count": 12,
   "metadata": {
    "slideshow": {
     "slide_type": "skip"
    }
   },
   "outputs": [
    {
     "data": {
      "text/html": [
       "<div>\n",
       "<style scoped>\n",
       "    .dataframe tbody tr th:only-of-type {\n",
       "        vertical-align: middle;\n",
       "    }\n",
       "\n",
       "    .dataframe tbody tr th {\n",
       "        vertical-align: top;\n",
       "    }\n",
       "\n",
       "    .dataframe thead th {\n",
       "        text-align: right;\n",
       "    }\n",
       "</style>\n",
       "<table border=\"1\" class=\"dataframe\">\n",
       "  <thead>\n",
       "    <tr style=\"text-align: right;\">\n",
       "      <th></th>\n",
       "      <th>video_id</th>\n",
       "      <th>channel_id</th>\n",
       "      <th>publish_date</th>\n",
       "      <th>collection_date</th>\n",
       "    </tr>\n",
       "  </thead>\n",
       "  <tbody>\n",
       "    <tr>\n",
       "      <th>0</th>\n",
       "      <td>FsZ3p9gOkpY</td>\n",
       "      <td>UC3XTzVzaHQEd30rQbuvCtTQ</td>\n",
       "      <td>2018-10-08 06:30:00</td>\n",
       "      <td>2018-10-09 11:48:09.641390</td>\n",
       "    </tr>\n",
       "    <tr>\n",
       "      <th>1</th>\n",
       "      <td>opi8X9hQ7q8</td>\n",
       "      <td>UC3XTzVzaHQEd30rQbuvCtTQ</td>\n",
       "      <td>2018-10-01 06:30:01</td>\n",
       "      <td>2018-10-09 11:48:09.641390</td>\n",
       "    </tr>\n",
       "  </tbody>\n",
       "</table>\n",
       "</div>"
      ],
      "text/plain": [
       "      video_id                channel_id        publish_date  \\\n",
       "0  FsZ3p9gOkpY  UC3XTzVzaHQEd30rQbuvCtTQ 2018-10-08 06:30:00   \n",
       "1  opi8X9hQ7q8  UC3XTzVzaHQEd30rQbuvCtTQ 2018-10-01 06:30:01   \n",
       "\n",
       "             collection_date  \n",
       "0 2018-10-09 11:48:09.641390  \n",
       "1 2018-10-09 11:48:09.641390  "
      ]
     },
     "execution_count": 12,
     "metadata": {},
     "output_type": "execute_result"
    }
   ],
   "source": [
    "df = pd.DataFrame(videos)\n",
    "df.head(2)"
   ]
  },
  {
   "cell_type": "markdown",
   "metadata": {
    "slideshow": {
     "slide_type": "slide"
    }
   },
   "source": [
    "From here we can get the full video metadata from the videos"
   ]
  },
  {
   "cell_type": "code",
   "execution_count": 19,
   "metadata": {
    "slideshow": {
     "slide_type": "fragment"
    }
   },
   "outputs": [
    {
     "data": {
      "text/html": [
       "<div>\n",
       "<style scoped>\n",
       "    .dataframe tbody tr th:only-of-type {\n",
       "        vertical-align: middle;\n",
       "    }\n",
       "\n",
       "    .dataframe tbody tr th {\n",
       "        vertical-align: top;\n",
       "    }\n",
       "\n",
       "    .dataframe thead th {\n",
       "        text-align: right;\n",
       "    }\n",
       "</style>\n",
       "<table border=\"1\" class=\"dataframe\">\n",
       "  <thead>\n",
       "    <tr style=\"text-align: right;\">\n",
       "      <th></th>\n",
       "      <th>video_id</th>\n",
       "      <th>channel_title</th>\n",
       "      <th>channel_id</th>\n",
       "      <th>video_publish_date</th>\n",
       "      <th>video_title</th>\n",
       "      <th>video_description</th>\n",
       "      <th>video_category</th>\n",
       "      <th>video_view_count</th>\n",
       "      <th>video_comment_count</th>\n",
       "      <th>video_like_count</th>\n",
       "      <th>video_dislike_count</th>\n",
       "      <th>video_thumbnail</th>\n",
       "      <th>video_tags</th>\n",
       "      <th>collection_date</th>\n",
       "    </tr>\n",
       "  </thead>\n",
       "  <tbody>\n",
       "    <tr>\n",
       "      <th>0</th>\n",
       "      <td>FsZ3p9gOkpY</td>\n",
       "      <td>LastWeekTonight</td>\n",
       "      <td>UC3XTzVzaHQEd30rQbuvCtTQ</td>\n",
       "      <td>2018-10-08 06:30:00</td>\n",
       "      <td>Brazilian Elections: Last Week Tonight with Jo...</td>\n",
       "      <td>Brazil is about to elect a new president durin...</td>\n",
       "      <td>24</td>\n",
       "      <td>2775977</td>\n",
       "      <td>41417</td>\n",
       "      <td>80019</td>\n",
       "      <td>102526</td>\n",
       "      <td>https://i.ytimg.com/vi/FsZ3p9gOkpY/hqdefault.jpg</td>\n",
       "      <td>last week tonight brazilian elections|last wee...</td>\n",
       "      <td>2018-10-09 11:58:13.120384</td>\n",
       "    </tr>\n",
       "    <tr>\n",
       "      <th>1</th>\n",
       "      <td>opi8X9hQ7q8</td>\n",
       "      <td>LastWeekTonight</td>\n",
       "      <td>UC3XTzVzaHQEd30rQbuvCtTQ</td>\n",
       "      <td>2018-10-01 06:30:01</td>\n",
       "      <td>Brett Kavanaugh: Last Week Tonight with John O...</td>\n",
       "      <td>John Oliver discusses the ongoing controversy ...</td>\n",
       "      <td>24</td>\n",
       "      <td>7365403</td>\n",
       "      <td>33141</td>\n",
       "      <td>146449</td>\n",
       "      <td>25071</td>\n",
       "      <td>https://i.ytimg.com/vi/opi8X9hQ7q8/hqdefault.jpg</td>\n",
       "      <td>last week tonight brett kavanaugh|john oliver ...</td>\n",
       "      <td>2018-10-09 11:58:13.120384</td>\n",
       "    </tr>\n",
       "  </tbody>\n",
       "</table>\n",
       "</div>"
      ],
      "text/plain": [
       "      video_id    channel_title                channel_id  video_publish_date  \\\n",
       "0  FsZ3p9gOkpY  LastWeekTonight  UC3XTzVzaHQEd30rQbuvCtTQ 2018-10-08 06:30:00   \n",
       "1  opi8X9hQ7q8  LastWeekTonight  UC3XTzVzaHQEd30rQbuvCtTQ 2018-10-01 06:30:01   \n",
       "\n",
       "                                         video_title  \\\n",
       "0  Brazilian Elections: Last Week Tonight with Jo...   \n",
       "1  Brett Kavanaugh: Last Week Tonight with John O...   \n",
       "\n",
       "                                   video_description video_category  \\\n",
       "0  Brazil is about to elect a new president durin...             24   \n",
       "1  John Oliver discusses the ongoing controversy ...             24   \n",
       "\n",
       "  video_view_count video_comment_count video_like_count video_dislike_count  \\\n",
       "0          2775977               41417            80019              102526   \n",
       "1          7365403               33141           146449               25071   \n",
       "\n",
       "                                    video_thumbnail  \\\n",
       "0  https://i.ytimg.com/vi/FsZ3p9gOkpY/hqdefault.jpg   \n",
       "1  https://i.ytimg.com/vi/opi8X9hQ7q8/hqdefault.jpg   \n",
       "\n",
       "                                          video_tags  \\\n",
       "0  last week tonight brazilian elections|last wee...   \n",
       "1  last week tonight brett kavanaugh|john oliver ...   \n",
       "\n",
       "             collection_date  \n",
       "0 2018-10-09 11:58:13.120384  \n",
       "1 2018-10-09 11:58:13.120384  "
      ]
     },
     "execution_count": 19,
     "metadata": {},
     "output_type": "execute_result"
    }
   ],
   "source": [
    "video_meta = yt.get_video_metadata(df.video_id.tolist()[:5])\n",
    "pd.DataFrame(video_meta[:2])"
   ]
  },
  {
   "cell_type": "markdown",
   "metadata": {
    "slideshow": {
     "slide_type": "slide"
    }
   },
   "source": [
    "It is also possible to get the search results from YouTube!"
   ]
  },
  {
   "cell_type": "code",
   "execution_count": 18,
   "metadata": {
    "slideshow": {
     "slide_type": "fragment"
    }
   },
   "outputs": [
    {
     "data": {
      "text/html": [
       "<div>\n",
       "<style scoped>\n",
       "    .dataframe tbody tr th:only-of-type {\n",
       "        vertical-align: middle;\n",
       "    }\n",
       "\n",
       "    .dataframe tbody tr th {\n",
       "        vertical-align: top;\n",
       "    }\n",
       "\n",
       "    .dataframe thead th {\n",
       "        text-align: right;\n",
       "    }\n",
       "</style>\n",
       "<table border=\"1\" class=\"dataframe\">\n",
       "  <thead>\n",
       "    <tr style=\"text-align: right;\">\n",
       "      <th></th>\n",
       "      <th>video_id</th>\n",
       "      <th>channel_title</th>\n",
       "      <th>channel_id</th>\n",
       "      <th>video_publish_date</th>\n",
       "      <th>video_title</th>\n",
       "      <th>video_description</th>\n",
       "      <th>video_category</th>\n",
       "      <th>video_thumbnail</th>\n",
       "      <th>collection_date</th>\n",
       "    </tr>\n",
       "  </thead>\n",
       "  <tbody>\n",
       "    <tr>\n",
       "      <th>0</th>\n",
       "      <td>FsZ3p9gOkpY</td>\n",
       "      <td>LastWeekTonight</td>\n",
       "      <td>UC3XTzVzaHQEd30rQbuvCtTQ</td>\n",
       "      <td>2018-10-08 06:30:00</td>\n",
       "      <td>Brazilian Elections: Last Week Tonight with Jo...</td>\n",
       "      <td>Brazil is about to elect a new president durin...</td>\n",
       "      <td>None</td>\n",
       "      <td>https://i.ytimg.com/vi/FsZ3p9gOkpY/hqdefault.jpg</td>\n",
       "      <td>2018-10-09 11:57:57.435617</td>\n",
       "    </tr>\n",
       "    <tr>\n",
       "      <th>1</th>\n",
       "      <td>opi8X9hQ7q8</td>\n",
       "      <td>LastWeekTonight</td>\n",
       "      <td>UC3XTzVzaHQEd30rQbuvCtTQ</td>\n",
       "      <td>2018-10-01 06:30:01</td>\n",
       "      <td>Brett Kavanaugh: Last Week Tonight with John O...</td>\n",
       "      <td>John Oliver discusses the ongoing controversy ...</td>\n",
       "      <td>None</td>\n",
       "      <td>https://i.ytimg.com/vi/opi8X9hQ7q8/hqdefault.jpg</td>\n",
       "      <td>2018-10-09 11:57:57.435617</td>\n",
       "    </tr>\n",
       "  </tbody>\n",
       "</table>\n",
       "</div>"
      ],
      "text/plain": [
       "      video_id    channel_title                channel_id  video_publish_date  \\\n",
       "0  FsZ3p9gOkpY  LastWeekTonight  UC3XTzVzaHQEd30rQbuvCtTQ 2018-10-08 06:30:00   \n",
       "1  opi8X9hQ7q8  LastWeekTonight  UC3XTzVzaHQEd30rQbuvCtTQ 2018-10-01 06:30:01   \n",
       "\n",
       "                                         video_title  \\\n",
       "0  Brazilian Elections: Last Week Tonight with Jo...   \n",
       "1  Brett Kavanaugh: Last Week Tonight with John O...   \n",
       "\n",
       "                                   video_description video_category  \\\n",
       "0  Brazil is about to elect a new president durin...           None   \n",
       "1  John Oliver discusses the ongoing controversy ...           None   \n",
       "\n",
       "                                    video_thumbnail            collection_date  \n",
       "0  https://i.ytimg.com/vi/FsZ3p9gOkpY/hqdefault.jpg 2018-10-09 11:57:57.435617  \n",
       "1  https://i.ytimg.com/vi/opi8X9hQ7q8/hqdefault.jpg 2018-10-09 11:57:57.435617  "
      ]
     },
     "execution_count": 18,
     "metadata": {},
     "output_type": "execute_result"
    }
   ],
   "source": [
    "pd.DataFrame(yt.search(q='john oliver', max_results=2))"
   ]
  },
  {
   "cell_type": "code",
   "execution_count": 17,
   "metadata": {
    "slideshow": {
     "slide_type": "slide"
    }
   },
   "outputs": [
    {
     "data": {
      "text/html": [
       "<div>\n",
       "<style scoped>\n",
       "    .dataframe tbody tr th:only-of-type {\n",
       "        vertical-align: middle;\n",
       "    }\n",
       "\n",
       "    .dataframe tbody tr th {\n",
       "        vertical-align: top;\n",
       "    }\n",
       "\n",
       "    .dataframe thead th {\n",
       "        text-align: right;\n",
       "    }\n",
       "</style>\n",
       "<table border=\"1\" class=\"dataframe\">\n",
       "  <thead>\n",
       "    <tr style=\"text-align: right;\">\n",
       "      <th></th>\n",
       "      <th>video_id</th>\n",
       "      <th>channel_title</th>\n",
       "      <th>channel_id</th>\n",
       "      <th>video_publish_date</th>\n",
       "      <th>video_title</th>\n",
       "      <th>video_description</th>\n",
       "      <th>video_category</th>\n",
       "      <th>video_thumbnail</th>\n",
       "      <th>collection_date</th>\n",
       "    </tr>\n",
       "  </thead>\n",
       "  <tbody>\n",
       "    <tr>\n",
       "      <th>0</th>\n",
       "      <td>opi8X9hQ7q8</td>\n",
       "      <td>LastWeekTonight</td>\n",
       "      <td>UC3XTzVzaHQEd30rQbuvCtTQ</td>\n",
       "      <td>2018-10-01 02:10:34</td>\n",
       "      <td>Brett Kavanaugh: Last Week Tonight with John O...</td>\n",
       "      <td>John Oliver discusses the ongoing controversy ...</td>\n",
       "      <td>None</td>\n",
       "      <td>https://i.ytimg.com/vi/opi8X9hQ7q8/hqdefault.jpg</td>\n",
       "      <td>2018-10-09 11:57:48.430988</td>\n",
       "    </tr>\n",
       "    <tr>\n",
       "      <th>1</th>\n",
       "      <td>oC4VXwFibWY</td>\n",
       "      <td>Saturday Night Live</td>\n",
       "      <td>UCqFzWxSCi39LnW1JKFR3efg</td>\n",
       "      <td>2016-10-02 06:37:32</td>\n",
       "      <td>Celebrity Family Feud: Political Edition - SNL</td>\n",
       "      <td>Kellyanne Conway (Kate McKinnon), Ivanka Trump...</td>\n",
       "      <td>None</td>\n",
       "      <td>https://i.ytimg.com/vi/oC4VXwFibWY/hqdefault.jpg</td>\n",
       "      <td>2018-10-09 11:57:48.430988</td>\n",
       "    </tr>\n",
       "  </tbody>\n",
       "</table>\n",
       "</div>"
      ],
      "text/plain": [
       "      video_id        channel_title                channel_id  \\\n",
       "0  opi8X9hQ7q8      LastWeekTonight  UC3XTzVzaHQEd30rQbuvCtTQ   \n",
       "1  oC4VXwFibWY  Saturday Night Live  UCqFzWxSCi39LnW1JKFR3efg   \n",
       "\n",
       "   video_publish_date                                        video_title  \\\n",
       "0 2018-10-01 02:10:34  Brett Kavanaugh: Last Week Tonight with John O...   \n",
       "1 2016-10-02 06:37:32     Celebrity Family Feud: Political Edition - SNL   \n",
       "\n",
       "                                   video_description video_category  \\\n",
       "0  John Oliver discusses the ongoing controversy ...           None   \n",
       "1  Kellyanne Conway (Kate McKinnon), Ivanka Trump...           None   \n",
       "\n",
       "                                    video_thumbnail            collection_date  \n",
       "0  https://i.ytimg.com/vi/opi8X9hQ7q8/hqdefault.jpg 2018-10-09 11:57:48.430988  \n",
       "1  https://i.ytimg.com/vi/oC4VXwFibWY/hqdefault.jpg 2018-10-09 11:57:48.430988  "
      ]
     },
     "execution_count": 17,
     "metadata": {},
     "output_type": "execute_result"
    }
   ],
   "source": [
    "recommendations = yt.get_recommended_videos(df.video_id.tolist()[0], max_results = 2)\n",
    "pd.DataFrame(recommendations)"
   ]
  },
  {
   "cell_type": "markdown",
   "metadata": {
    "slideshow": {
     "slide_type": "slide"
    }
   },
   "source": [
    "[Part 2](https://www.leonyin.org/presentations/yt-pt-2.slides.html#/)"
   ]
  }
 ],
 "metadata": {
  "celltoolbar": "Slideshow",
  "kernelspec": {
   "display_name": "Python 3",
   "language": "python",
   "name": "python3"
  },
  "language_info": {
   "codemirror_mode": {
    "name": "ipython",
    "version": 3
   },
   "file_extension": ".py",
   "mimetype": "text/x-python",
   "name": "python",
   "nbconvert_exporter": "python",
   "pygments_lexer": "ipython3",
   "version": "3.6.7"
  }
 },
 "nbformat": 4,
 "nbformat_minor": 2
}
